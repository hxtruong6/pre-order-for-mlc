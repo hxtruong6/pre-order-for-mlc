{
 "cells": [
  {
   "cell_type": "code",
   "execution_count": null,
   "metadata": {},
   "outputs": [],
   "source": []
  },
  {
   "cell_type": "code",
   "execution_count": 1,
   "metadata": {},
   "outputs": [
    {
     "name": "stderr",
     "output_type": "stream",
     "text": [
      "INFO:root:Loading results from ../results/dataset_emotions_noisy_0.0.pkl\n"
     ]
    }
   ],
   "source": [
    "from analyze_results import ResultAnalyzer\n",
    "\n",
    "\n",
    "analyzer = ResultAnalyzer()\n",
    "\n",
    "path = \"../results\"\n",
    "\n",
    "# Load results for a specific dataset and noise rate\n",
    "results_df = analyzer.load_experiment_results(path, \"emotions\", 0.0)\n",
    "\n"
   ]
  },
  {
   "cell_type": "code",
   "execution_count": 2,
   "metadata": {},
   "outputs": [
    {
     "data": {
      "text/html": [
       "<div>\n",
       "<style scoped>\n",
       "    .dataframe tbody tr th:only-of-type {\n",
       "        vertical-align: middle;\n",
       "    }\n",
       "\n",
       "    .dataframe tbody tr th {\n",
       "        vertical-align: top;\n",
       "    }\n",
       "\n",
       "    .dataframe thead th {\n",
       "        text-align: right;\n",
       "    }\n",
       "</style>\n",
       "<table border=\"1\" class=\"dataframe\">\n",
       "  <thead>\n",
       "    <tr style=\"text-align: right;\">\n",
       "      <th></th>\n",
       "      <th>Y_test</th>\n",
       "      <th>Y_predicted</th>\n",
       "      <th>Y_BOPOs</th>\n",
       "      <th>target_metric</th>\n",
       "      <th>preference_order</th>\n",
       "      <th>height</th>\n",
       "      <th>repeat_time</th>\n",
       "      <th>fold</th>\n",
       "      <th>dataset_name</th>\n",
       "      <th>base_learner_name</th>\n",
       "      <th>noisy_rate</th>\n",
       "    </tr>\n",
       "  </thead>\n",
       "  <tbody>\n",
       "    <tr>\n",
       "      <th>0</th>\n",
       "      <td>[[0, 1, 1, 0, 0, 0], [0, 1, 0, 0, 0, 1], [0, 0...</td>\n",
       "      <td>[[0, 0, 1, 0, 0, 0], [0, 0, 0, 0, 0, 1], [0, 0...</td>\n",
       "      <td>[[[0.0], [0.0], [1.0], [0.0], [0.0], [1.0], [0...</td>\n",
       "      <td>Hamming</td>\n",
       "      <td>PreOrder</td>\n",
       "      <td>2.0</td>\n",
       "      <td>0</td>\n",
       "      <td>0</td>\n",
       "      <td>emotions</td>\n",
       "      <td>RF</td>\n",
       "      <td>0.0</td>\n",
       "    </tr>\n",
       "    <tr>\n",
       "      <th>1</th>\n",
       "      <td>[[0, 1, 1, 0, 0, 0], [0, 1, 0, 0, 0, 1], [0, 0...</td>\n",
       "      <td>[[0, 0, 1, 1, 1, 0], [0, 0, 0, 0, 0, 1], [0, 0...</td>\n",
       "      <td>[[[0.0], [0.0], [1.0], [0.0], [0.0], [1.0], [0...</td>\n",
       "      <td>Hamming</td>\n",
       "      <td>PreOrder</td>\n",
       "      <td>NaN</td>\n",
       "      <td>0</td>\n",
       "      <td>0</td>\n",
       "      <td>emotions</td>\n",
       "      <td>RF</td>\n",
       "      <td>0.0</td>\n",
       "    </tr>\n",
       "    <tr>\n",
       "      <th>2</th>\n",
       "      <td>[[0, 1, 1, 0, 0, 0], [0, 1, 0, 0, 0, 1], [0, 0...</td>\n",
       "      <td>[[0, 0, 1, 0, 0, 0], [0, 0, 0, 0, 0, 1], [0, 0...</td>\n",
       "      <td>[[[0.0], [0.0], [1.0], [0.0], [0.0], [1.0], [0...</td>\n",
       "      <td>Subset</td>\n",
       "      <td>PreOrder</td>\n",
       "      <td>2.0</td>\n",
       "      <td>0</td>\n",
       "      <td>0</td>\n",
       "      <td>emotions</td>\n",
       "      <td>RF</td>\n",
       "      <td>0.0</td>\n",
       "    </tr>\n",
       "    <tr>\n",
       "      <th>3</th>\n",
       "      <td>[[0, 1, 1, 0, 0, 0], [0, 1, 0, 0, 0, 1], [0, 0...</td>\n",
       "      <td>[[0, 0, 1, 1, 1, 0], [0, 0, 0, 0, 0, 1], [0, 0...</td>\n",
       "      <td>[[[0.0], [0.0], [1.0], [0.0], [0.0], [1.0], [0...</td>\n",
       "      <td>Subset</td>\n",
       "      <td>PreOrder</td>\n",
       "      <td>NaN</td>\n",
       "      <td>0</td>\n",
       "      <td>0</td>\n",
       "      <td>emotions</td>\n",
       "      <td>RF</td>\n",
       "      <td>0.0</td>\n",
       "    </tr>\n",
       "    <tr>\n",
       "      <th>4</th>\n",
       "      <td>[[0, 1, 1, 0, 0, 0], [0, 1, 0, 0, 0, 1], [0, 0...</td>\n",
       "      <td>[[0, 0, 1, 1, 1, 0], [1, 0, 0, 0, 0, 1], [0, 0...</td>\n",
       "      <td>[[[0.0], [0.0], [1.0], [0.0], [1.0], [0.0], [0...</td>\n",
       "      <td>Hamming</td>\n",
       "      <td>PartialOrder</td>\n",
       "      <td>2.0</td>\n",
       "      <td>0</td>\n",
       "      <td>0</td>\n",
       "      <td>emotions</td>\n",
       "      <td>RF</td>\n",
       "      <td>0.0</td>\n",
       "    </tr>\n",
       "  </tbody>\n",
       "</table>\n",
       "</div>"
      ],
      "text/plain": [
       "                                              Y_test  \\\n",
       "0  [[0, 1, 1, 0, 0, 0], [0, 1, 0, 0, 0, 1], [0, 0...   \n",
       "1  [[0, 1, 1, 0, 0, 0], [0, 1, 0, 0, 0, 1], [0, 0...   \n",
       "2  [[0, 1, 1, 0, 0, 0], [0, 1, 0, 0, 0, 1], [0, 0...   \n",
       "3  [[0, 1, 1, 0, 0, 0], [0, 1, 0, 0, 0, 1], [0, 0...   \n",
       "4  [[0, 1, 1, 0, 0, 0], [0, 1, 0, 0, 0, 1], [0, 0...   \n",
       "\n",
       "                                         Y_predicted  \\\n",
       "0  [[0, 0, 1, 0, 0, 0], [0, 0, 0, 0, 0, 1], [0, 0...   \n",
       "1  [[0, 0, 1, 1, 1, 0], [0, 0, 0, 0, 0, 1], [0, 0...   \n",
       "2  [[0, 0, 1, 0, 0, 0], [0, 0, 0, 0, 0, 1], [0, 0...   \n",
       "3  [[0, 0, 1, 1, 1, 0], [0, 0, 0, 0, 0, 1], [0, 0...   \n",
       "4  [[0, 0, 1, 1, 1, 0], [1, 0, 0, 0, 0, 1], [0, 0...   \n",
       "\n",
       "                                             Y_BOPOs target_metric  \\\n",
       "0  [[[0.0], [0.0], [1.0], [0.0], [0.0], [1.0], [0...       Hamming   \n",
       "1  [[[0.0], [0.0], [1.0], [0.0], [0.0], [1.0], [0...       Hamming   \n",
       "2  [[[0.0], [0.0], [1.0], [0.0], [0.0], [1.0], [0...        Subset   \n",
       "3  [[[0.0], [0.0], [1.0], [0.0], [0.0], [1.0], [0...        Subset   \n",
       "4  [[[0.0], [0.0], [1.0], [0.0], [1.0], [0.0], [0...       Hamming   \n",
       "\n",
       "  preference_order  height  repeat_time  fold dataset_name base_learner_name  \\\n",
       "0         PreOrder     2.0            0     0     emotions                RF   \n",
       "1         PreOrder     NaN            0     0     emotions                RF   \n",
       "2         PreOrder     2.0            0     0     emotions                RF   \n",
       "3         PreOrder     NaN            0     0     emotions                RF   \n",
       "4     PartialOrder     2.0            0     0     emotions                RF   \n",
       "\n",
       "   noisy_rate  \n",
       "0         0.0  \n",
       "1         0.0  \n",
       "2         0.0  \n",
       "3         0.0  \n",
       "4         0.0  "
      ]
     },
     "execution_count": 2,
     "metadata": {},
     "output_type": "execute_result"
    }
   ],
   "source": [
    "results_df.head()"
   ]
  },
  {
   "cell_type": "code",
   "execution_count": null,
   "metadata": {},
   "outputs": [],
   "source": []
  },
  {
   "cell_type": "code",
   "execution_count": 3,
   "metadata": {},
   "outputs": [
    {
     "data": {
      "text/plain": [
       "Y_test                object\n",
       "Y_predicted           object\n",
       "Y_BOPOs               object\n",
       "target_metric         object\n",
       "preference_order      object\n",
       "height               float64\n",
       "repeat_time            int64\n",
       "fold                   int64\n",
       "dataset_name          object\n",
       "base_learner_name     object\n",
       "noisy_rate           float64\n",
       "dtype: object"
      ]
     },
     "execution_count": 3,
     "metadata": {},
     "output_type": "execute_result"
    }
   ],
   "source": [
    "# Type of each column\n",
    "results_df.dtypes\n",
    "\n",
    "\n"
   ]
  },
  {
   "cell_type": "code",
   "execution_count": null,
   "metadata": {},
   "outputs": [],
   "source": []
  },
  {
   "cell_type": "code",
   "execution_count": 2,
   "metadata": {},
   "outputs": [
    {
     "name": "stdout",
     "output_type": "stream",
     "text": [
      "                                               Y_test  \\\n",
      "0   [[0, 1, 1, 0, 0, 0], [0, 1, 0, 0, 0, 1], [0, 0...   \n",
      "1   [[0, 1, 1, 0, 0, 0], [0, 1, 0, 0, 0, 1], [0, 0...   \n",
      "2   [[0, 1, 1, 0, 0, 0], [0, 1, 0, 0, 0, 1], [0, 0...   \n",
      "3   [[0, 1, 1, 0, 0, 0], [0, 1, 0, 0, 0, 1], [0, 0...   \n",
      "4   [[0, 1, 1, 0, 0, 0], [0, 1, 0, 0, 0, 1], [0, 0...   \n",
      "5   [[0, 1, 1, 0, 0, 0], [0, 1, 0, 0, 0, 1], [0, 0...   \n",
      "6   [[0, 1, 1, 0, 0, 0], [0, 1, 0, 0, 0, 1], [0, 0...   \n",
      "7   [[0, 1, 1, 0, 0, 0], [0, 1, 0, 0, 0, 1], [0, 0...   \n",
      "8   [[1, 0, 0, 0, 0, 1], [0, 0, 1, 0, 0, 0], [0, 1...   \n",
      "9   [[1, 0, 0, 0, 0, 1], [0, 0, 1, 0, 0, 0], [0, 1...   \n",
      "10  [[1, 0, 0, 0, 0, 1], [0, 0, 1, 0, 0, 0], [0, 1...   \n",
      "11  [[1, 0, 0, 0, 0, 1], [0, 0, 1, 0, 0, 0], [0, 1...   \n",
      "12  [[1, 0, 0, 0, 0, 1], [0, 0, 1, 0, 0, 0], [0, 1...   \n",
      "13  [[1, 0, 0, 0, 0, 1], [0, 0, 1, 0, 0, 0], [0, 1...   \n",
      "14  [[1, 0, 0, 0, 0, 1], [0, 0, 1, 0, 0, 0], [0, 1...   \n",
      "15  [[1, 0, 0, 0, 0, 1], [0, 0, 1, 0, 0, 0], [0, 1...   \n",
      "\n",
      "                                      predict_results  \n",
      "0   [[[0, 0, 1, 0, 0, 0], [0, 0, 0, 0, 0, 1], [0, ...  \n",
      "1   [[[0, 0, 1, 1, 1, 0], [0, 0, 0, 0, 0, 1], [0, ...  \n",
      "2   [[[0, 0, 1, 0, 0, 0], [0, 0, 0, 0, 0, 1], [0, ...  \n",
      "3   [[[0, 0, 1, 1, 1, 0], [0, 0, 0, 0, 0, 1], [0, ...  \n",
      "4   [[[0, 0, 1, 1, 1, 0], [1, 0, 0, 0, 0, 1], [0, ...  \n",
      "5   [[[0, 0, 1, 1, 1, 0], [1, 0, 0, 0, 0, 1], [0, ...  \n",
      "6   [[[0, 0, 1, 1, 1, 0], [1, 0, 0, 0, 0, 1], [0, ...  \n",
      "7   [[[0, 0, 1, 1, 1, 0], [1, 0, 0, 0, 0, 1], [0, ...  \n",
      "8   [[[1, 0, 0, 0, 0, 1], [0, 0, 1, 0, 0, 0], [0, ...  \n",
      "9   [[[1, 0, 0, 0, 0, 1], [0, 0, 1, 0, 0, 0], [0, ...  \n",
      "10  [[[1, 0, 0, 0, 0, 1], [0, 0, 1, 0, 0, 0], [0, ...  \n",
      "11  [[[1, 0, 0, 0, 0, 1], [0, 0, 1, 0, 0, 0], [0, ...  \n",
      "12  [[[1, 0, 0, 0, 0, 1], [0, 0, 1, 0, 0, 0], [0, ...  \n",
      "13  [[[1, 0, 0, 0, 0, 1], [0, 0, 1, 0, 0, 0], [0, ...  \n",
      "14  [[[1, 0, 0, 0, 0, 1], [0, 0, 1, 0, 0, 0], [0, ...  \n",
      "15  [[[1, 0, 0, 0, 0, 1], [0, 0, 1, 0, 0, 0], [0, ...  \n"
     ]
    },
    {
     "ename": "TypeError",
     "evalue": "complex() first argument must be a string or a number, not 'list'",
     "output_type": "error",
     "traceback": [
      "\u001b[0;31m---------------------------------------------------------------------------\u001b[0m",
      "\u001b[0;31mTypeError\u001b[0m                                 Traceback (most recent call last)",
      "File \u001b[0;32m~/miniconda/envs/preorder_mlc/lib/python3.12/site-packages/pandas/core/nanops.py:1703\u001b[0m, in \u001b[0;36m_ensure_numeric\u001b[0;34m(x)\u001b[0m\n\u001b[1;32m   1702\u001b[0m \u001b[38;5;28;01mtry\u001b[39;00m:\n\u001b[0;32m-> 1703\u001b[0m     x \u001b[38;5;241m=\u001b[39m \u001b[38;5;28;43mfloat\u001b[39;49m\u001b[43m(\u001b[49m\u001b[43mx\u001b[49m\u001b[43m)\u001b[49m\n\u001b[1;32m   1704\u001b[0m \u001b[38;5;28;01mexcept\u001b[39;00m (\u001b[38;5;167;01mTypeError\u001b[39;00m, \u001b[38;5;167;01mValueError\u001b[39;00m):\n\u001b[1;32m   1705\u001b[0m     \u001b[38;5;66;03m# e.g. \"1+1j\" or \"foo\"\u001b[39;00m\n",
      "\u001b[0;31mTypeError\u001b[0m: float() argument must be a string or a real number, not 'list'",
      "\nDuring handling of the above exception, another exception occurred:\n",
      "\u001b[0;31mTypeError\u001b[0m                                 Traceback (most recent call last)",
      "Cell \u001b[0;32mIn[2], line 2\u001b[0m\n\u001b[1;32m      1\u001b[0m \u001b[38;5;66;03m# Create summary tables\u001b[39;00m\n\u001b[0;32m----> 2\u001b[0m summary_tables \u001b[38;5;241m=\u001b[39m \u001b[43manalyzer\u001b[49m\u001b[38;5;241;43m.\u001b[39;49m\u001b[43mcreate_summary_tables\u001b[49m\u001b[43m(\u001b[49m\u001b[43mresults_df\u001b[49m\u001b[43m)\u001b[49m\n\u001b[1;32m      4\u001b[0m \u001b[38;5;66;03m# Display specific results\u001b[39;00m\n\u001b[1;32m      5\u001b[0m \u001b[38;5;28mprint\u001b[39m(summary_tables[\u001b[38;5;124m'\u001b[39m\u001b[38;5;124mbinary_vector\u001b[39m\u001b[38;5;124m'\u001b[39m])\n",
      "File \u001b[0;32m~/Documents/WORK/RESEARCH/preorders4MLC/utils/analyze_results.py:37\u001b[0m, in \u001b[0;36mResultAnalyzer.create_summary_tables\u001b[0;34m(self, df)\u001b[0m\n\u001b[1;32m     33\u001b[0m pt2_results \u001b[38;5;241m=\u001b[39m []\n\u001b[1;32m     35\u001b[0m \u001b[38;5;28;01mfor\u001b[39;00m _, group \u001b[38;5;129;01min\u001b[39;00m df\u001b[38;5;241m.\u001b[39mgroupby([\u001b[38;5;124m\"\u001b[39m\u001b[38;5;124mpreference_order\u001b[39m\u001b[38;5;124m\"\u001b[39m, \u001b[38;5;124m\"\u001b[39m\u001b[38;5;124mtarget_metric\u001b[39m\u001b[38;5;124m\"\u001b[39m, \u001b[38;5;124m\"\u001b[39m\u001b[38;5;124mheight\u001b[39m\u001b[38;5;124m\"\u001b[39m]):\n\u001b[1;32m     36\u001b[0m     metrics \u001b[38;5;241m=\u001b[39m {\n\u001b[0;32m---> 37\u001b[0m         \u001b[38;5;124m\"\u001b[39m\u001b[38;5;124mmean\u001b[39m\u001b[38;5;124m\"\u001b[39m: \u001b[43mgroup\u001b[49m\u001b[43m[\u001b[49m\u001b[38;5;124;43m\"\u001b[39;49m\u001b[38;5;124;43mpredict_results\u001b[39;49m\u001b[38;5;124;43m\"\u001b[39;49m\u001b[43m]\u001b[49m\u001b[38;5;241;43m.\u001b[39;49m\u001b[43mmean\u001b[49m\u001b[43m(\u001b[49m\u001b[43m)\u001b[49m,\n\u001b[1;32m     38\u001b[0m         \u001b[38;5;124m\"\u001b[39m\u001b[38;5;124mstd\u001b[39m\u001b[38;5;124m\"\u001b[39m: group[\u001b[38;5;124m\"\u001b[39m\u001b[38;5;124mpredict_results\u001b[39m\u001b[38;5;124m\"\u001b[39m]\u001b[38;5;241m.\u001b[39mstd(),\n\u001b[1;32m     39\u001b[0m     }\n\u001b[1;32m     40\u001b[0m     pt2_results\u001b[38;5;241m.\u001b[39mappend(\n\u001b[1;32m     41\u001b[0m         {\n\u001b[1;32m     42\u001b[0m             \u001b[38;5;124m\"\u001b[39m\u001b[38;5;124mpreference_order\u001b[39m\u001b[38;5;124m\"\u001b[39m: group[\u001b[38;5;124m\"\u001b[39m\u001b[38;5;124mpreference_order\u001b[39m\u001b[38;5;124m\"\u001b[39m]\u001b[38;5;241m.\u001b[39miloc[\u001b[38;5;241m0\u001b[39m],\n\u001b[0;32m   (...)\u001b[0m\n\u001b[1;32m     46\u001b[0m         }\n\u001b[1;32m     47\u001b[0m     )\n\u001b[1;32m     49\u001b[0m summary_tables[\u001b[38;5;124m\"\u001b[39m\u001b[38;5;124mbinary_vector\u001b[39m\u001b[38;5;124m\"\u001b[39m] \u001b[38;5;241m=\u001b[39m pd\u001b[38;5;241m.\u001b[39mDataFrame(pt2_results)\n",
      "File \u001b[0;32m~/miniconda/envs/preorder_mlc/lib/python3.12/site-packages/pandas/core/series.py:6540\u001b[0m, in \u001b[0;36mSeries.mean\u001b[0;34m(self, axis, skipna, numeric_only, **kwargs)\u001b[0m\n\u001b[1;32m   6532\u001b[0m \u001b[38;5;129m@doc\u001b[39m(make_doc(\u001b[38;5;124m\"\u001b[39m\u001b[38;5;124mmean\u001b[39m\u001b[38;5;124m\"\u001b[39m, ndim\u001b[38;5;241m=\u001b[39m\u001b[38;5;241m1\u001b[39m))\n\u001b[1;32m   6533\u001b[0m \u001b[38;5;28;01mdef\u001b[39;00m\u001b[38;5;250m \u001b[39m\u001b[38;5;21mmean\u001b[39m(\n\u001b[1;32m   6534\u001b[0m     \u001b[38;5;28mself\u001b[39m,\n\u001b[0;32m   (...)\u001b[0m\n\u001b[1;32m   6538\u001b[0m     \u001b[38;5;241m*\u001b[39m\u001b[38;5;241m*\u001b[39mkwargs,\n\u001b[1;32m   6539\u001b[0m ):\n\u001b[0;32m-> 6540\u001b[0m     \u001b[38;5;28;01mreturn\u001b[39;00m \u001b[43mNDFrame\u001b[49m\u001b[38;5;241;43m.\u001b[39;49m\u001b[43mmean\u001b[49m\u001b[43m(\u001b[49m\u001b[38;5;28;43mself\u001b[39;49m\u001b[43m,\u001b[49m\u001b[43m \u001b[49m\u001b[43maxis\u001b[49m\u001b[43m,\u001b[49m\u001b[43m \u001b[49m\u001b[43mskipna\u001b[49m\u001b[43m,\u001b[49m\u001b[43m \u001b[49m\u001b[43mnumeric_only\u001b[49m\u001b[43m,\u001b[49m\u001b[43m \u001b[49m\u001b[38;5;241;43m*\u001b[39;49m\u001b[38;5;241;43m*\u001b[39;49m\u001b[43mkwargs\u001b[49m\u001b[43m)\u001b[49m\n",
      "File \u001b[0;32m~/miniconda/envs/preorder_mlc/lib/python3.12/site-packages/pandas/core/generic.py:12417\u001b[0m, in \u001b[0;36mNDFrame.mean\u001b[0;34m(self, axis, skipna, numeric_only, **kwargs)\u001b[0m\n\u001b[1;32m  12410\u001b[0m \u001b[38;5;28;01mdef\u001b[39;00m\u001b[38;5;250m \u001b[39m\u001b[38;5;21mmean\u001b[39m(\n\u001b[1;32m  12411\u001b[0m     \u001b[38;5;28mself\u001b[39m,\n\u001b[1;32m  12412\u001b[0m     axis: Axis \u001b[38;5;241m|\u001b[39m \u001b[38;5;28;01mNone\u001b[39;00m \u001b[38;5;241m=\u001b[39m \u001b[38;5;241m0\u001b[39m,\n\u001b[0;32m   (...)\u001b[0m\n\u001b[1;32m  12415\u001b[0m     \u001b[38;5;241m*\u001b[39m\u001b[38;5;241m*\u001b[39mkwargs,\n\u001b[1;32m  12416\u001b[0m ) \u001b[38;5;241m-\u001b[39m\u001b[38;5;241m>\u001b[39m Series \u001b[38;5;241m|\u001b[39m \u001b[38;5;28mfloat\u001b[39m:\n\u001b[0;32m> 12417\u001b[0m     \u001b[38;5;28;01mreturn\u001b[39;00m \u001b[38;5;28;43mself\u001b[39;49m\u001b[38;5;241;43m.\u001b[39;49m\u001b[43m_stat_function\u001b[49m\u001b[43m(\u001b[49m\n\u001b[1;32m  12418\u001b[0m \u001b[43m        \u001b[49m\u001b[38;5;124;43m\"\u001b[39;49m\u001b[38;5;124;43mmean\u001b[39;49m\u001b[38;5;124;43m\"\u001b[39;49m\u001b[43m,\u001b[49m\u001b[43m \u001b[49m\u001b[43mnanops\u001b[49m\u001b[38;5;241;43m.\u001b[39;49m\u001b[43mnanmean\u001b[49m\u001b[43m,\u001b[49m\u001b[43m \u001b[49m\u001b[43maxis\u001b[49m\u001b[43m,\u001b[49m\u001b[43m \u001b[49m\u001b[43mskipna\u001b[49m\u001b[43m,\u001b[49m\u001b[43m \u001b[49m\u001b[43mnumeric_only\u001b[49m\u001b[43m,\u001b[49m\u001b[43m \u001b[49m\u001b[38;5;241;43m*\u001b[39;49m\u001b[38;5;241;43m*\u001b[39;49m\u001b[43mkwargs\u001b[49m\n\u001b[1;32m  12419\u001b[0m \u001b[43m    \u001b[49m\u001b[43m)\u001b[49m\n",
      "File \u001b[0;32m~/miniconda/envs/preorder_mlc/lib/python3.12/site-packages/pandas/core/generic.py:12374\u001b[0m, in \u001b[0;36mNDFrame._stat_function\u001b[0;34m(self, name, func, axis, skipna, numeric_only, **kwargs)\u001b[0m\n\u001b[1;32m  12370\u001b[0m nv\u001b[38;5;241m.\u001b[39mvalidate_func(name, (), kwargs)\n\u001b[1;32m  12372\u001b[0m validate_bool_kwarg(skipna, \u001b[38;5;124m\"\u001b[39m\u001b[38;5;124mskipna\u001b[39m\u001b[38;5;124m\"\u001b[39m, none_allowed\u001b[38;5;241m=\u001b[39m\u001b[38;5;28;01mFalse\u001b[39;00m)\n\u001b[0;32m> 12374\u001b[0m \u001b[38;5;28;01mreturn\u001b[39;00m \u001b[38;5;28;43mself\u001b[39;49m\u001b[38;5;241;43m.\u001b[39;49m\u001b[43m_reduce\u001b[49m\u001b[43m(\u001b[49m\n\u001b[1;32m  12375\u001b[0m \u001b[43m    \u001b[49m\u001b[43mfunc\u001b[49m\u001b[43m,\u001b[49m\u001b[43m \u001b[49m\u001b[43mname\u001b[49m\u001b[38;5;241;43m=\u001b[39;49m\u001b[43mname\u001b[49m\u001b[43m,\u001b[49m\u001b[43m \u001b[49m\u001b[43maxis\u001b[49m\u001b[38;5;241;43m=\u001b[39;49m\u001b[43maxis\u001b[49m\u001b[43m,\u001b[49m\u001b[43m \u001b[49m\u001b[43mskipna\u001b[49m\u001b[38;5;241;43m=\u001b[39;49m\u001b[43mskipna\u001b[49m\u001b[43m,\u001b[49m\u001b[43m \u001b[49m\u001b[43mnumeric_only\u001b[49m\u001b[38;5;241;43m=\u001b[39;49m\u001b[43mnumeric_only\u001b[49m\n\u001b[1;32m  12376\u001b[0m \u001b[43m\u001b[49m\u001b[43m)\u001b[49m\n",
      "File \u001b[0;32m~/miniconda/envs/preorder_mlc/lib/python3.12/site-packages/pandas/core/series.py:6448\u001b[0m, in \u001b[0;36mSeries._reduce\u001b[0;34m(self, op, name, axis, skipna, numeric_only, filter_type, **kwds)\u001b[0m\n\u001b[1;32m   6443\u001b[0m     \u001b[38;5;66;03m# GH#47500 - change to TypeError to match other methods\u001b[39;00m\n\u001b[1;32m   6444\u001b[0m     \u001b[38;5;28;01mraise\u001b[39;00m \u001b[38;5;167;01mTypeError\u001b[39;00m(\n\u001b[1;32m   6445\u001b[0m         \u001b[38;5;124mf\u001b[39m\u001b[38;5;124m\"\u001b[39m\u001b[38;5;124mSeries.\u001b[39m\u001b[38;5;132;01m{\u001b[39;00mname\u001b[38;5;132;01m}\u001b[39;00m\u001b[38;5;124m does not allow \u001b[39m\u001b[38;5;132;01m{\u001b[39;00mkwd_name\u001b[38;5;132;01m}\u001b[39;00m\u001b[38;5;124m=\u001b[39m\u001b[38;5;132;01m{\u001b[39;00mnumeric_only\u001b[38;5;132;01m}\u001b[39;00m\u001b[38;5;124m \u001b[39m\u001b[38;5;124m\"\u001b[39m\n\u001b[1;32m   6446\u001b[0m         \u001b[38;5;124m\"\u001b[39m\u001b[38;5;124mwith non-numeric dtypes.\u001b[39m\u001b[38;5;124m\"\u001b[39m\n\u001b[1;32m   6447\u001b[0m     )\n\u001b[0;32m-> 6448\u001b[0m \u001b[38;5;28;01mreturn\u001b[39;00m \u001b[43mop\u001b[49m\u001b[43m(\u001b[49m\u001b[43mdelegate\u001b[49m\u001b[43m,\u001b[49m\u001b[43m \u001b[49m\u001b[43mskipna\u001b[49m\u001b[38;5;241;43m=\u001b[39;49m\u001b[43mskipna\u001b[49m\u001b[43m,\u001b[49m\u001b[43m \u001b[49m\u001b[38;5;241;43m*\u001b[39;49m\u001b[38;5;241;43m*\u001b[39;49m\u001b[43mkwds\u001b[49m\u001b[43m)\u001b[49m\n",
      "File \u001b[0;32m~/miniconda/envs/preorder_mlc/lib/python3.12/site-packages/pandas/core/nanops.py:147\u001b[0m, in \u001b[0;36mbottleneck_switch.__call__.<locals>.f\u001b[0;34m(values, axis, skipna, **kwds)\u001b[0m\n\u001b[1;32m    145\u001b[0m         result \u001b[38;5;241m=\u001b[39m alt(values, axis\u001b[38;5;241m=\u001b[39maxis, skipna\u001b[38;5;241m=\u001b[39mskipna, \u001b[38;5;241m*\u001b[39m\u001b[38;5;241m*\u001b[39mkwds)\n\u001b[1;32m    146\u001b[0m \u001b[38;5;28;01melse\u001b[39;00m:\n\u001b[0;32m--> 147\u001b[0m     result \u001b[38;5;241m=\u001b[39m \u001b[43malt\u001b[49m\u001b[43m(\u001b[49m\u001b[43mvalues\u001b[49m\u001b[43m,\u001b[49m\u001b[43m \u001b[49m\u001b[43maxis\u001b[49m\u001b[38;5;241;43m=\u001b[39;49m\u001b[43maxis\u001b[49m\u001b[43m,\u001b[49m\u001b[43m \u001b[49m\u001b[43mskipna\u001b[49m\u001b[38;5;241;43m=\u001b[39;49m\u001b[43mskipna\u001b[49m\u001b[43m,\u001b[49m\u001b[43m \u001b[49m\u001b[38;5;241;43m*\u001b[39;49m\u001b[38;5;241;43m*\u001b[39;49m\u001b[43mkwds\u001b[49m\u001b[43m)\u001b[49m\n\u001b[1;32m    149\u001b[0m \u001b[38;5;28;01mreturn\u001b[39;00m result\n",
      "File \u001b[0;32m~/miniconda/envs/preorder_mlc/lib/python3.12/site-packages/pandas/core/nanops.py:404\u001b[0m, in \u001b[0;36m_datetimelike_compat.<locals>.new_func\u001b[0;34m(values, axis, skipna, mask, **kwargs)\u001b[0m\n\u001b[1;32m    401\u001b[0m \u001b[38;5;28;01mif\u001b[39;00m datetimelike \u001b[38;5;129;01mand\u001b[39;00m mask \u001b[38;5;129;01mis\u001b[39;00m \u001b[38;5;28;01mNone\u001b[39;00m:\n\u001b[1;32m    402\u001b[0m     mask \u001b[38;5;241m=\u001b[39m isna(values)\n\u001b[0;32m--> 404\u001b[0m result \u001b[38;5;241m=\u001b[39m \u001b[43mfunc\u001b[49m\u001b[43m(\u001b[49m\u001b[43mvalues\u001b[49m\u001b[43m,\u001b[49m\u001b[43m \u001b[49m\u001b[43maxis\u001b[49m\u001b[38;5;241;43m=\u001b[39;49m\u001b[43maxis\u001b[49m\u001b[43m,\u001b[49m\u001b[43m \u001b[49m\u001b[43mskipna\u001b[49m\u001b[38;5;241;43m=\u001b[39;49m\u001b[43mskipna\u001b[49m\u001b[43m,\u001b[49m\u001b[43m \u001b[49m\u001b[43mmask\u001b[49m\u001b[38;5;241;43m=\u001b[39;49m\u001b[43mmask\u001b[49m\u001b[43m,\u001b[49m\u001b[43m \u001b[49m\u001b[38;5;241;43m*\u001b[39;49m\u001b[38;5;241;43m*\u001b[39;49m\u001b[43mkwargs\u001b[49m\u001b[43m)\u001b[49m\n\u001b[1;32m    406\u001b[0m \u001b[38;5;28;01mif\u001b[39;00m datetimelike:\n\u001b[1;32m    407\u001b[0m     result \u001b[38;5;241m=\u001b[39m _wrap_results(result, orig_values\u001b[38;5;241m.\u001b[39mdtype, fill_value\u001b[38;5;241m=\u001b[39miNaT)\n",
      "File \u001b[0;32m~/miniconda/envs/preorder_mlc/lib/python3.12/site-packages/pandas/core/nanops.py:720\u001b[0m, in \u001b[0;36mnanmean\u001b[0;34m(values, axis, skipna, mask)\u001b[0m\n\u001b[1;32m    718\u001b[0m count \u001b[38;5;241m=\u001b[39m _get_counts(values\u001b[38;5;241m.\u001b[39mshape, mask, axis, dtype\u001b[38;5;241m=\u001b[39mdtype_count)\n\u001b[1;32m    719\u001b[0m the_sum \u001b[38;5;241m=\u001b[39m values\u001b[38;5;241m.\u001b[39msum(axis, dtype\u001b[38;5;241m=\u001b[39mdtype_sum)\n\u001b[0;32m--> 720\u001b[0m the_sum \u001b[38;5;241m=\u001b[39m \u001b[43m_ensure_numeric\u001b[49m\u001b[43m(\u001b[49m\u001b[43mthe_sum\u001b[49m\u001b[43m)\u001b[49m\n\u001b[1;32m    722\u001b[0m \u001b[38;5;28;01mif\u001b[39;00m axis \u001b[38;5;129;01mis\u001b[39;00m \u001b[38;5;129;01mnot\u001b[39;00m \u001b[38;5;28;01mNone\u001b[39;00m \u001b[38;5;129;01mand\u001b[39;00m \u001b[38;5;28mgetattr\u001b[39m(the_sum, \u001b[38;5;124m\"\u001b[39m\u001b[38;5;124mndim\u001b[39m\u001b[38;5;124m\"\u001b[39m, \u001b[38;5;28;01mFalse\u001b[39;00m):\n\u001b[1;32m    723\u001b[0m     count \u001b[38;5;241m=\u001b[39m cast(np\u001b[38;5;241m.\u001b[39mndarray, count)\n",
      "File \u001b[0;32m~/miniconda/envs/preorder_mlc/lib/python3.12/site-packages/pandas/core/nanops.py:1707\u001b[0m, in \u001b[0;36m_ensure_numeric\u001b[0;34m(x)\u001b[0m\n\u001b[1;32m   1704\u001b[0m \u001b[38;5;28;01mexcept\u001b[39;00m (\u001b[38;5;167;01mTypeError\u001b[39;00m, \u001b[38;5;167;01mValueError\u001b[39;00m):\n\u001b[1;32m   1705\u001b[0m     \u001b[38;5;66;03m# e.g. \"1+1j\" or \"foo\"\u001b[39;00m\n\u001b[1;32m   1706\u001b[0m     \u001b[38;5;28;01mtry\u001b[39;00m:\n\u001b[0;32m-> 1707\u001b[0m         x \u001b[38;5;241m=\u001b[39m \u001b[38;5;28;43mcomplex\u001b[39;49m\u001b[43m(\u001b[49m\u001b[43mx\u001b[49m\u001b[43m)\u001b[49m\n\u001b[1;32m   1708\u001b[0m     \u001b[38;5;28;01mexcept\u001b[39;00m \u001b[38;5;167;01mValueError\u001b[39;00m \u001b[38;5;28;01mas\u001b[39;00m err:\n\u001b[1;32m   1709\u001b[0m         \u001b[38;5;66;03m# e.g. \"foo\"\u001b[39;00m\n\u001b[1;32m   1710\u001b[0m         \u001b[38;5;28;01mraise\u001b[39;00m \u001b[38;5;167;01mTypeError\u001b[39;00m(\u001b[38;5;124mf\u001b[39m\u001b[38;5;124m\"\u001b[39m\u001b[38;5;124mCould not convert \u001b[39m\u001b[38;5;132;01m{\u001b[39;00mx\u001b[38;5;132;01m}\u001b[39;00m\u001b[38;5;124m to numeric\u001b[39m\u001b[38;5;124m\"\u001b[39m) \u001b[38;5;28;01mfrom\u001b[39;00m\u001b[38;5;250m \u001b[39m\u001b[38;5;21;01merr\u001b[39;00m\n",
      "\u001b[0;31mTypeError\u001b[0m: complex() first argument must be a string or a number, not 'list'"
     ]
    }
   ],
   "source": [
    "\n",
    "# Create summary tables\n",
    "summary_tables = analyzer.create_summary_tables(results_df)\n",
    "\n",
    "# Display specific results\n",
    "print(summary_tables['binary_vector'])\n",
    "\n",
    "# Create visualizations\n",
    "analyzer.plot_results(summary_tables)"
   ]
  }
 ],
 "metadata": {
  "kernelspec": {
   "display_name": "preorder_mlc",
   "language": "python",
   "name": "python3"
  },
  "language_info": {
   "codemirror_mode": {
    "name": "ipython",
    "version": 3
   },
   "file_extension": ".py",
   "mimetype": "text/x-python",
   "name": "python",
   "nbconvert_exporter": "python",
   "pygments_lexer": "ipython3",
   "version": "3.12.2"
  }
 },
 "nbformat": 4,
 "nbformat_minor": 2
}
